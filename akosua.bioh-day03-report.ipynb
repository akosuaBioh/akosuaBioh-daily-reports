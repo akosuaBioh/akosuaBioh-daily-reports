{
 "cells": [
  {
   "cell_type": "markdown",
   "id": "7d451b40-517a-4e13-9218-3e6b5a5d7c4b",
   "metadata": {},
   "source": [
    "## Strings and files"
   ]
  },
  {
   "cell_type": "code",
   "execution_count": null,
   "id": "ede5bf21-8807-4ad0-81dd-3bbe881805d2",
   "metadata": {},
   "outputs": [],
   "source": [
    "A string is basically a chain of characters."
   ]
  },
  {
   "cell_type": "code",
   "execution_count": 2,
   "id": "e2491842-2bc5-4d24-b020-eecd5b80f0d6",
   "metadata": {},
   "outputs": [],
   "source": [
    "string_1 = \"Will you be at the meeting tonight?\"\n",
    "string_2 = '\"Yes\", he replies.'"
   ]
  },
  {
   "cell_type": "code",
   "execution_count": 3,
   "id": "a3637295-d0cd-4b70-a4fe-60fd22b95b67",
   "metadata": {
    "scrolled": true
   },
   "outputs": [
    {
     "name": "stdout",
     "output_type": "stream",
     "text": [
      "Will you be at the meeting tonight?\n"
     ]
    }
   ],
   "source": [
    "print(string_1)"
   ]
  },
  {
   "cell_type": "code",
   "execution_count": 4,
   "id": "7190f115-a3d0-4d96-9abf-553483fd43bb",
   "metadata": {},
   "outputs": [
    {
     "name": "stdout",
     "output_type": "stream",
     "text": [
      "\"Yes\", he replies.\n"
     ]
    }
   ],
   "source": [
    "print(string_2)"
   ]
  },
  {
   "cell_type": "markdown",
   "id": "02069ad8-a0de-4b16-8eb5-bde77377e38b",
   "metadata": {},
   "source": [
    "## Indexing"
   ]
  },
  {
   "cell_type": "code",
   "execution_count": 5,
   "id": "430b3905-14df-4e0b-ae11-c09228e3b5bc",
   "metadata": {},
   "outputs": [
    {
     "data": {
      "text/plain": [
       "'W'"
      ]
     },
     "execution_count": 5,
     "metadata": {},
     "output_type": "execute_result"
    }
   ],
   "source": [
    "string_1[0]"
   ]
  },
  {
   "cell_type": "code",
   "execution_count": 6,
   "id": "1b7c1cb6-cd20-4961-8cd0-53de39688948",
   "metadata": {},
   "outputs": [
    {
     "data": {
      "text/plain": [
       "'l'"
      ]
     },
     "execution_count": 6,
     "metadata": {},
     "output_type": "execute_result"
    }
   ],
   "source": [
    "string_1[2]"
   ]
  },
  {
   "cell_type": "code",
   "execution_count": 8,
   "id": "03eb9ca3-f80b-46ce-9442-4f7be43598e5",
   "metadata": {},
   "outputs": [
    {
     "name": "stdout",
     "output_type": "stream",
     "text": [
      "The sixth character of my first string is:  y\n",
      "The last character of my second string is:  .\n"
     ]
    }
   ],
   "source": [
    "print(\"The sixth character of my first string is: \", string_1[5])\n",
    "print(\"The last character of my second string is: \", string_2[-1])"
   ]
  },
  {
   "cell_type": "markdown",
   "id": "7785c7b4-60a8-4880-80c2-46d3510654bd",
   "metadata": {},
   "source": [
    "## Slicing \n",
    "string[start:stop:step]\n",
    "The step is 1 by default\n",
    "\n",
    "The stop goes to the end when not specified"
   ]
  },
  {
   "cell_type": "code",
   "execution_count": 9,
   "id": "f58c70ed-fa1b-4278-8ad0-73906b1926d4",
   "metadata": {},
   "outputs": [
    {
     "name": "stdout",
     "output_type": "stream",
     "text": [
      "Will you be at the meeting tonight?\n"
     ]
    },
    {
     "data": {
      "text/plain": [
       "'l o'"
      ]
     },
     "execution_count": 9,
     "metadata": {},
     "output_type": "execute_result"
    }
   ],
   "source": [
    "print(string_1)\n",
    "string_1[2:8:2]"
   ]
  },
  {
   "cell_type": "code",
   "execution_count": 10,
   "id": "2f554959-8826-4169-94ec-de55fca6cdab",
   "metadata": {},
   "outputs": [
    {
     "name": "stdout",
     "output_type": "stream",
     "text": [
      "Will you be at the meeting tonight?\n"
     ]
    },
    {
     "data": {
      "text/plain": [
       "'ll you'"
      ]
     },
     "execution_count": 10,
     "metadata": {},
     "output_type": "execute_result"
    }
   ],
   "source": [
    "print(string_1)\n",
    "string_1[2:8:]"
   ]
  },
  {
   "cell_type": "code",
   "execution_count": 11,
   "id": "309783e9-64ad-4b93-99a1-2d8c079f1e0b",
   "metadata": {},
   "outputs": [
    {
     "name": "stdout",
     "output_type": "stream",
     "text": [
      "Will you be at the meeting tonight?\n"
     ]
    },
    {
     "data": {
      "text/plain": [
       "'Will you be at the meeting tonight?'"
      ]
     },
     "execution_count": 11,
     "metadata": {},
     "output_type": "execute_result"
    }
   ],
   "source": [
    "print(string_1)\n",
    "string_1[: :]"
   ]
  },
  {
   "cell_type": "code",
   "execution_count": 16,
   "id": "9de91b7d-d330-4b73-8e19-dfd3dd366619",
   "metadata": {},
   "outputs": [
    {
     "name": "stdout",
     "output_type": "stream",
     "text": [
      "Will you be at the meeting tonight?\n"
     ]
    },
    {
     "data": {
      "text/plain": [
       "'Wl o ea h etn oih?'"
      ]
     },
     "execution_count": 16,
     "metadata": {},
     "output_type": "execute_result"
    }
   ],
   "source": [
    "print(string_1)\n",
    "string_1[: : 2]"
   ]
  },
  {
   "cell_type": "code",
   "execution_count": 13,
   "id": "23d3ea85-c1de-4537-ab5a-c74b4137d4d3",
   "metadata": {},
   "outputs": [
    {
     "data": {
      "text/plain": [
       "18"
      ]
     },
     "execution_count": 13,
     "metadata": {},
     "output_type": "execute_result"
    }
   ],
   "source": [
    "len(string_2)"
   ]
  },
  {
   "cell_type": "markdown",
   "id": "d1337eda-ccb9-4f6d-bb13-8039b032133b",
   "metadata": {},
   "source": [
    "## Concatenation"
   ]
  },
  {
   "cell_type": "code",
   "execution_count": 14,
   "id": "039a68ea-25f3-4b3b-94a2-6f3e6a99b000",
   "metadata": {},
   "outputs": [
    {
     "name": "stdout",
     "output_type": "stream",
     "text": [
      "Hello, World\n",
      "WorldHello, \n"
     ]
    }
   ],
   "source": [
    "my_var_1 = \"Hello, \"\n",
    "\n",
    "my_var_2 = 'World'\n",
    "\n",
    "concat = my_var_1 + my_var_2\n",
    "\n",
    "concat1 = my_var_2 + my_var_1\n",
    "\n",
    "print(concat)\n",
    "print(concat1)"
   ]
  },
  {
   "cell_type": "code",
   "execution_count": 15,
   "id": "fa464090-69fd-4c00-a1df-081f153b4bef",
   "metadata": {},
   "outputs": [
    {
     "name": "stdout",
     "output_type": "stream",
     "text": [
      "World\n",
      "WorldWorld\n"
     ]
    }
   ],
   "source": [
    "print(my_var_2)\n",
    "print(2*my_var_2)"
   ]
  },
  {
   "cell_type": "code",
   "execution_count": 18,
   "id": "20acffbe-d9ba-4b44-99ae-6e9e82792d0f",
   "metadata": {},
   "outputs": [
    {
     "name": "stdout",
     "output_type": "stream",
     "text": [
      "World\n"
     ]
    },
    {
     "ename": "TypeError",
     "evalue": "can't multiply sequence by non-int of type 'float'",
     "output_type": "error",
     "traceback": [
      "\u001b[1;31m---------------------------------------------------------------------------\u001b[0m",
      "\u001b[1;31mTypeError\u001b[0m                                 Traceback (most recent call last)",
      "Cell \u001b[1;32mIn[18], line 2\u001b[0m\n\u001b[0;32m      1\u001b[0m \u001b[38;5;28mprint\u001b[39m(my_var_2)\n\u001b[1;32m----> 2\u001b[0m \u001b[38;5;28mprint\u001b[39m(\u001b[38;5;241m4.5\u001b[39m\u001b[38;5;241m*\u001b[39mmy_var_2)\n",
      "\u001b[1;31mTypeError\u001b[0m: can't multiply sequence by non-int of type 'float'"
     ]
    }
   ],
   "source": [
    "print(my_var_2)\n",
    "print(4.5*my_var_2)"
   ]
  },
  {
   "cell_type": "code",
   "execution_count": 66,
   "id": "9672db34-7b33-4c75-9269-d918ea935138",
   "metadata": {},
   "outputs": [],
   "source": [
    "cupcake1 = \"You need just eggs, flour, sugar and milk for this delicious cupcake.\"\n",
    "cupcake2 = \"YOU NEED JUST EGGS, FLOUR, SUGAR AND MILK FOR THIS DELICIOUS CUPCAKE.\""
   ]
  },
  {
   "cell_type": "code",
   "execution_count": 33,
   "id": "9b6b7f7f-a143-4bc5-8ec3-cc46289c6f84",
   "metadata": {
    "scrolled": true
   },
   "outputs": [
    {
     "data": {
      "text/plain": [
       "\u001b[1;31mSignature:\u001b[0m \u001b[0mcupcake\u001b[0m\u001b[1;33m.\u001b[0m\u001b[0mcasefold\u001b[0m\u001b[1;33m(\u001b[0m\u001b[1;33m)\u001b[0m\u001b[1;33m\u001b[0m\u001b[1;33m\u001b[0m\u001b[0m\n",
       "\u001b[1;31mDocstring:\u001b[0m Return a version of the string suitable for caseless comparisons.\n",
       "\u001b[1;31mType:\u001b[0m      builtin_function_or_method"
      ]
     },
     "metadata": {},
     "output_type": "display_data"
    }
   ],
   "source": [
    "?cupcake.casefold"
   ]
  },
  {
   "cell_type": "code",
   "execution_count": 50,
   "id": "8612c485-5141-4541-b3f9-109d79b587ba",
   "metadata": {
    "scrolled": true
   },
   "outputs": [
    {
     "name": "stdout",
     "output_type": "stream",
     "text": [
      "you need just eggs, flour, sugar and milk for this delicious cupcake. \n",
      "you need just eggs, flour, sugar and milk for this delicious cupcake. \n"
     ]
    }
   ],
   "source": [
    "change_1 = cupcake1.casefold()\n",
    "change_2 = cupcake2.casefold()\n",
    "\n",
    "print(change_1)\n",
    "print(change_2)"
   ]
  },
  {
   "cell_type": "code",
   "execution_count": 51,
   "id": "ea2afb13-15f4-4c64-9f4f-6ebf3a250d58",
   "metadata": {},
   "outputs": [
    {
     "data": {
      "text/plain": [
       "True"
      ]
     },
     "execution_count": 51,
     "metadata": {},
     "output_type": "execute_result"
    }
   ],
   "source": [
    "change_1 == change_2"
   ]
  },
  {
   "cell_type": "code",
   "execution_count": 55,
   "id": "ee93c851-9ff8-4998-9430-53c73aa5be64",
   "metadata": {},
   "outputs": [
    {
     "name": "stdout",
     "output_type": "stream",
     "text": [
      "Help on built-in function endswith:\n",
      "\n",
      "endswith(suffix[, start[, end]], /) method of builtins.str instance\n",
      "    Return True if the string ends with the specified suffix, False otherwise.\n",
      "\n",
      "    suffix\n",
      "      A string or a tuple of strings to try.\n",
      "    start\n",
      "      Optional start position. Default: start of the string.\n",
      "    end\n",
      "      Optional stop position. Default: end of the string.\n",
      "\n"
     ]
    }
   ],
   "source": [
    "help(cupcake.endswith)"
   ]
  },
  {
   "cell_type": "code",
   "execution_count": 67,
   "id": "4788e3f0-3648-4e97-8eb4-5f9ffe9749d6",
   "metadata": {},
   "outputs": [
    {
     "data": {
      "text/plain": [
       "True"
      ]
     },
     "execution_count": 67,
     "metadata": {},
     "output_type": "execute_result"
    }
   ],
   "source": [
    "cupcake1.endswith(\".\")"
   ]
  },
  {
   "cell_type": "markdown",
   "id": "9135ed8d-80fc-4457-ba98-33b305d8b576",
   "metadata": {},
   "source": [
    "## File Reading and Writing"
   ]
  },
  {
   "cell_type": "code",
   "execution_count": 69,
   "id": "6558cc0a-735e-44b3-845f-dd69068caf91",
   "metadata": {},
   "outputs": [],
   "source": [
    "#Opening a file \n",
    "\n",
    "with open(\"testfile.txt\", \"w\") as fy:\n",
    "    fy.write(\"fghij\\n\")\n",
    "    fy.write(\"AIMS CLASS\\n\")\n",
    "    fy.write(\"I really love Python language.\\n\")\n",
    "    fy.write(\"This is really cool\\n\")"
   ]
  },
  {
   "cell_type": "code",
   "execution_count": 84,
   "id": "95234e09-f4f8-4d1d-b8c8-c4081de73985",
   "metadata": {},
   "outputs": [],
   "source": [
    "fy = open('testfile.txt', 'r')"
   ]
  },
  {
   "cell_type": "code",
   "execution_count": 85,
   "id": "d04e8051-2788-4461-9d5b-287b3240f814",
   "metadata": {},
   "outputs": [
    {
     "data": {
      "text/plain": [
       "_io.TextIOWrapper"
      ]
     },
     "execution_count": 85,
     "metadata": {},
     "output_type": "execute_result"
    }
   ],
   "source": [
    "type(fy)"
   ]
  },
  {
   "cell_type": "code",
   "execution_count": 83,
   "id": "d748f9c7-4dad-41ec-bc64-4c6d3d1006c2",
   "metadata": {
    "scrolled": true
   },
   "outputs": [
    {
     "data": {
      "text/plain": [
       "['fghij\\n',\n",
       " 'AIMS CLASS\\n',\n",
       " 'I really love Python language.\\n',\n",
       " 'This is really cool\\n']"
      ]
     },
     "execution_count": 83,
     "metadata": {},
     "output_type": "execute_result"
    }
   ],
   "source": [
    "fy.readlines()"
   ]
  },
  {
   "cell_type": "code",
   "execution_count": 88,
   "id": "aac7b2ce-50d5-469f-ab04-1f8dab83bbc3",
   "metadata": {},
   "outputs": [],
   "source": [
    "fy.close() #to close a file"
   ]
  },
  {
   "cell_type": "code",
   "execution_count": 94,
   "id": "062a174a-2d24-4207-b355-8cefbe04578d",
   "metadata": {},
   "outputs": [],
   "source": [
    "#Opening a file \n",
    "recipe = open('recipe.txt', 'w') #use 'a' if you want to append something to file.txt if and only if it alraedy exists\n",
    "recipe.write(\"Peel some onions \\n Sautee the onions \\n Add some butter and leave to fry for extra 2 mins\\n\")\n",
    "recipe.close()\n",
    "\n",
    "\n"
   ]
  },
  {
   "cell_type": "code",
   "execution_count": 95,
   "id": "12a18522-29dd-4d80-b2a1-a52f1c19a78b",
   "metadata": {},
   "outputs": [
    {
     "name": "stdout",
     "output_type": "stream",
     "text": [
      " Volume in drive C is Windows-SSD\n",
      " Volume Serial Number is 16C7-7AAE\n",
      "\n",
      " Directory of C:\\Users\\beckb\\Desktop\\python_course\\notebooks_lecture_notes\n",
      "\n",
      "25/09/2025  12:39 pm    <DIR>          .\n",
      "24/09/2025  02:01 pm    <DIR>          ..\n",
      "25/09/2025  11:11 am    <DIR>          .ipynb_checkpoints\n",
      "22/09/2025  11:30 am         3,681,053 akosBioh.jpg\n",
      "25/09/2025  12:39 pm            13,433 akosua.bioh-day-03-report.ipynb\n",
      "24/09/2025  02:05 pm            36,721 akosua.bioh-day02-report.ipynb\n",
      "25/09/2025  06:08 am            38,121 akosua_bioh_PP1.ipynb\n",
      "23/09/2025  10:28 am             6,021 command_mode.png\n",
      "23/09/2025  10:28 am             6,030 edit_mode.png\n",
      "23/09/2025  10:28 am           194,094 Emily.png\n",
      "23/09/2025  10:28 am            17,311 menubar_toolbar.png\n",
      "25/09/2025  05:34 am            54,149 PyPro-SCiDaS-day_00_introduction_to_jupyter_notebooks.ipynb\n",
      "25/09/2025  05:50 am            63,823 PyPro-SCiDaS-day_01a_introduction_to_python.ipynb\n",
      "25/09/2025  06:12 am            82,721 PyPro-SCiDaS-day_01b_variables-and-assignment.ipynb\n",
      "25/09/2025  12:42 pm                92 recipe.txt\n",
      "25/09/2025  12:24 pm                72 testfile.txt\n",
      "              13 File(s)      4,193,641 bytes\n",
      "               3 Dir(s)  830,385,090,560 bytes free\n"
     ]
    }
   ],
   "source": [
    "!dir"
   ]
  },
  {
   "cell_type": "code",
   "execution_count": null,
   "id": "dc5c03a5-5aaf-4cdd-abaf-48c3bfd180ad",
   "metadata": {},
   "outputs": [],
   "source": []
  }
 ],
 "metadata": {
  "kernelspec": {
   "display_name": "Python [conda env:base] *",
   "language": "python",
   "name": "conda-base-py"
  },
  "language_info": {
   "codemirror_mode": {
    "name": "ipython",
    "version": 3
   },
   "file_extension": ".py",
   "mimetype": "text/x-python",
   "name": "python",
   "nbconvert_exporter": "python",
   "pygments_lexer": "ipython3",
   "version": "3.13.5"
  }
 },
 "nbformat": 4,
 "nbformat_minor": 5
}
